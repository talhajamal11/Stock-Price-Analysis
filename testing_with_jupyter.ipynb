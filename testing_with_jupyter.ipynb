{
 "cells": [
  {
   "cell_type": "code",
   "execution_count": 244,
   "metadata": {},
   "outputs": [],
   "source": [
    "import json #To read API calls\n",
    "import pandas as pd # to store API calls in Dataframes\n",
    "import requests  # to make HTTP calls to the API\n",
    "import openpyxl \n",
    "import datetime"
   ]
  },
  {
   "cell_type": "markdown",
   "metadata": {},
   "source": [
    "API Call to create a List of All Exchanges available at eodhistorical"
   ]
  },
  {
   "cell_type": "code",
   "execution_count": 29,
   "metadata": {},
   "outputs": [
    {
     "name": "stdout",
     "output_type": "stream",
     "text": [
      "Exchange Lists being downloaded\n",
      "Finished Loading Exchange List\n"
     ]
    }
   ],
   "source": [
    "Exchange_API_CALL = \"https://eodhistoricaldata.com/api/exchanges-list/?api_token=62f9fa8999db62.45214477&fmt=json\"\n",
    "print(\"Exchange Lists being downloaded\")\n",
    "exchange_call = requests.get(Exchange_API_CALL).text\n",
    "Exchange_List = pd.DataFrame(json.loads(exchange_call))\n",
    "print(\"Finished Loading Exchange List\")"
   ]
  },
  {
   "cell_type": "markdown",
   "metadata": {},
   "source": [
    "Info on Exchange List Dataframe created"
   ]
  },
  {
   "cell_type": "code",
   "execution_count": 36,
   "metadata": {},
   "outputs": [
    {
     "name": "stdout",
     "output_type": "stream",
     "text": [
      "                   Name Code OperatingMIC Country Currency CountryISO2  \\\n",
      "0            USA Stocks   US   XNAS, XNYS     USA      USD          US   \n",
      "1       London Exchange  LSE         XLON      UK      GBP          GB   \n",
      "2  TSX Venture Exchange    V         XTSX  Canada      CAD          CA   \n",
      "3      Toronto Exchange   TO         XTSE  Canada      CAD          CA   \n",
      "4          NEO Exchange  NEO         NEOE  Canada      CAD          CA   \n",
      "\n",
      "  CountryISO3  \n",
      "0         USA  \n",
      "1         GBR  \n",
      "2         CAN  \n",
      "3         CAN  \n",
      "4         CAN  \n"
     ]
    }
   ],
   "source": [
    "print(Exchange_List.head())"
   ]
  },
  {
   "cell_type": "markdown",
   "metadata": {},
   "source": [
    "Exporting Exchange List to an Excel File"
   ]
  },
  {
   "cell_type": "code",
   "execution_count": 39,
   "metadata": {},
   "outputs": [
    {
     "name": "stdout",
     "output_type": "stream",
     "text": [
      "Exchange List exported to an Excel File\n"
     ]
    }
   ],
   "source": [
    "exchange_list_writer = pd.ExcelWriter('Exchange_List.xlsx')\n",
    "Exchange_List.to_excel(exchange_list_writer)\n",
    "exchange_list_writer.save()\n",
    "print(\"Exchange List exported to an Excel File\")"
   ]
  },
  {
   "cell_type": "markdown",
   "metadata": {},
   "source": [
    "Creating a List of top 10 US MCap Tickers"
   ]
  },
  {
   "cell_type": "code",
   "execution_count": 245,
   "metadata": {},
   "outputs": [
    {
     "name": "stdout",
     "output_type": "stream",
     "text": [
      "['AAPL', 'MSFT', 'GOOG', 'AMZN', 'TSLA', 'BRK-B', 'UNH', 'META', 'NVDA', 'V']\n"
     ]
    }
   ],
   "source": [
    "List_Of_Tickers = ['AAPL', 'MSFT','GOOG', 'AMZN', 'TSLA', 'BRK-B', 'UNH', 'META', 'NVDA', 'V']\n",
    "print(List_Of_Tickers)"
   ]
  },
  {
   "cell_type": "markdown",
   "metadata": {},
   "source": [
    "Creating a DataFrame for Pricing of Top 10 MCap US Tickers"
   ]
  },
  {
   "cell_type": "code",
   "execution_count": 246,
   "metadata": {},
   "outputs": [
    {
     "name": "stdout",
     "output_type": "stream",
     "text": [
      "<class 'pandas.core.frame.DataFrame'>\n",
      "Index: 0 entries\n",
      "Empty DataFrame"
     ]
    }
   ],
   "source": [
    "Ticker_Pricing = pd.DataFrame()\n",
    "Ticker_Pricing.info()\n",
    "Ticker_Series = pd.Series(List_Of_Tickers)"
   ]
  },
  {
   "cell_type": "markdown",
   "metadata": {},
   "source": [
    "API Call to add Ticker Pricing to DataFrame"
   ]
  },
  {
   "cell_type": "code",
   "execution_count": 247,
   "metadata": {},
   "outputs": [
    {
     "name": "stdout",
     "output_type": "stream",
     "text": [
      " AAPL price for last year being downloaded\n"
     ]
    },
    {
     "name": "stderr",
     "output_type": "stream",
     "text": [
      "/var/folders/mx/3njcjnr945sb00grfs87nn800000gn/T/ipykernel_1432/2136950657.py:8: FutureWarning: The frame.append method is deprecated and will be removed from pandas in a future version. Use pandas.concat instead.\n",
      "  Ticker_Pricing = Ticker_Pricing.append(Ticker_Price_List)\n"
     ]
    },
    {
     "name": "stdout",
     "output_type": "stream",
     "text": [
      " MSFT price for last year being downloaded\n"
     ]
    },
    {
     "name": "stderr",
     "output_type": "stream",
     "text": [
      "/var/folders/mx/3njcjnr945sb00grfs87nn800000gn/T/ipykernel_1432/2136950657.py:8: FutureWarning: The frame.append method is deprecated and will be removed from pandas in a future version. Use pandas.concat instead.\n",
      "  Ticker_Pricing = Ticker_Pricing.append(Ticker_Price_List)\n"
     ]
    },
    {
     "name": "stdout",
     "output_type": "stream",
     "text": [
      " GOOG price for last year being downloaded\n"
     ]
    },
    {
     "name": "stderr",
     "output_type": "stream",
     "text": [
      "/var/folders/mx/3njcjnr945sb00grfs87nn800000gn/T/ipykernel_1432/2136950657.py:8: FutureWarning: The frame.append method is deprecated and will be removed from pandas in a future version. Use pandas.concat instead.\n",
      "  Ticker_Pricing = Ticker_Pricing.append(Ticker_Price_List)\n"
     ]
    },
    {
     "name": "stdout",
     "output_type": "stream",
     "text": [
      " AMZN price for last year being downloaded\n"
     ]
    },
    {
     "name": "stderr",
     "output_type": "stream",
     "text": [
      "/var/folders/mx/3njcjnr945sb00grfs87nn800000gn/T/ipykernel_1432/2136950657.py:8: FutureWarning: The frame.append method is deprecated and will be removed from pandas in a future version. Use pandas.concat instead.\n",
      "  Ticker_Pricing = Ticker_Pricing.append(Ticker_Price_List)\n"
     ]
    },
    {
     "name": "stdout",
     "output_type": "stream",
     "text": [
      " TSLA price for last year being downloaded\n"
     ]
    },
    {
     "name": "stderr",
     "output_type": "stream",
     "text": [
      "/var/folders/mx/3njcjnr945sb00grfs87nn800000gn/T/ipykernel_1432/2136950657.py:8: FutureWarning: The frame.append method is deprecated and will be removed from pandas in a future version. Use pandas.concat instead.\n",
      "  Ticker_Pricing = Ticker_Pricing.append(Ticker_Price_List)\n"
     ]
    },
    {
     "name": "stdout",
     "output_type": "stream",
     "text": [
      " BRK-B price for last year being downloaded\n"
     ]
    },
    {
     "name": "stderr",
     "output_type": "stream",
     "text": [
      "/var/folders/mx/3njcjnr945sb00grfs87nn800000gn/T/ipykernel_1432/2136950657.py:8: FutureWarning: The frame.append method is deprecated and will be removed from pandas in a future version. Use pandas.concat instead.\n",
      "  Ticker_Pricing = Ticker_Pricing.append(Ticker_Price_List)\n"
     ]
    },
    {
     "name": "stdout",
     "output_type": "stream",
     "text": [
      " UNH price for last year being downloaded\n"
     ]
    },
    {
     "name": "stderr",
     "output_type": "stream",
     "text": [
      "/var/folders/mx/3njcjnr945sb00grfs87nn800000gn/T/ipykernel_1432/2136950657.py:8: FutureWarning: The frame.append method is deprecated and will be removed from pandas in a future version. Use pandas.concat instead.\n",
      "  Ticker_Pricing = Ticker_Pricing.append(Ticker_Price_List)\n"
     ]
    },
    {
     "name": "stdout",
     "output_type": "stream",
     "text": [
      " META price for last year being downloaded\n"
     ]
    },
    {
     "name": "stderr",
     "output_type": "stream",
     "text": [
      "/var/folders/mx/3njcjnr945sb00grfs87nn800000gn/T/ipykernel_1432/2136950657.py:8: FutureWarning: The frame.append method is deprecated and will be removed from pandas in a future version. Use pandas.concat instead.\n",
      "  Ticker_Pricing = Ticker_Pricing.append(Ticker_Price_List)\n"
     ]
    },
    {
     "name": "stdout",
     "output_type": "stream",
     "text": [
      " NVDA price for last year being downloaded\n"
     ]
    },
    {
     "name": "stderr",
     "output_type": "stream",
     "text": [
      "/var/folders/mx/3njcjnr945sb00grfs87nn800000gn/T/ipykernel_1432/2136950657.py:8: FutureWarning: The frame.append method is deprecated and will be removed from pandas in a future version. Use pandas.concat instead.\n",
      "  Ticker_Pricing = Ticker_Pricing.append(Ticker_Price_List)\n"
     ]
    },
    {
     "name": "stdout",
     "output_type": "stream",
     "text": [
      " V price for last year being downloaded\n",
      "           date    open    high     low   close  adjusted_close    volume  \\\n",
      "0    2021-08-17  150.23  151.68  149.09  150.19        149.3531  92229700   \n",
      "1    2021-08-18  149.80  150.72  146.15  146.36        145.5444  86326000   \n",
      "2    2021-08-19  145.03  148.00  144.50  146.70        145.8825  86960300   \n",
      "3    2021-08-20  147.44  148.50  146.78  148.19        147.3642  60549600   \n",
      "4    2021-08-23  148.31  150.19  147.89  149.71        148.8758  60131800   \n",
      "..          ...     ...     ...     ...     ...             ...       ...   \n",
      "247  2022-08-10  214.83  214.84  211.31  212.10        211.7250   5746447   \n",
      "248  2022-08-11  213.29  213.50  210.59  211.08        211.0800   6639600   \n",
      "249  2022-08-12  213.00  213.22  210.10  211.33        211.3300   6442100   \n",
      "250  2022-08-15  210.37  216.74  210.37  216.42        216.4200   5290600   \n",
      "251  2022-08-16  214.55  217.61  212.13  217.14        217.1400   6564400   \n",
      "\n",
      "                                               warning  \n",
      "0                                                  NaN  \n",
      "1                                                  NaN  \n",
      "2                                                  NaN  \n",
      "3                                                  NaN  \n",
      "4                                                  NaN  \n",
      "..                                                 ...  \n",
      "247                                                NaN  \n",
      "248                                                NaN  \n",
      "249                                                NaN  \n",
      "250                                                NaN  \n",
      "251  Data is limited by one year as you have free s...  \n",
      "\n",
      "[2520 rows x 8 columns]\n"
     ]
    },
    {
     "name": "stderr",
     "output_type": "stream",
     "text": [
      "/var/folders/mx/3njcjnr945sb00grfs87nn800000gn/T/ipykernel_1432/2136950657.py:8: FutureWarning: The frame.append method is deprecated and will be removed from pandas in a future version. Use pandas.concat instead.\n",
      "  Ticker_Pricing = Ticker_Pricing.append(Ticker_Price_List)\n"
     ]
    }
   ],
   "source": [
    "start_date = datetime.date(2021, 8, 16)\n",
    "end_date = datetime.date(2022, 8, 16)\n",
    "for tic in List_Of_Tickers:\n",
    "    Ticker_API_CALL = 'https://eodhistoricaldata.com/api/eod/{}.US?from={}&to={}&period=d&fmt=json&api_token=62f9fa8999db62.45214477'.format(tic, start_date, end_date)\n",
    "    print(' '+ tic + \" price for last year being downloaded\")\n",
    "    ticker_call = requests.get(Ticker_API_CALL).text\n",
    "    Ticker_Price_List = pd.DataFrame(json.loads(ticker_call))\n",
    "    Ticker_Pricing = Ticker_Pricing.append(Ticker_Price_List)\n",
    "print(Ticker_Pricing)"
   ]
  },
  {
   "cell_type": "markdown",
   "metadata": {},
   "source": [
    "Adding Ticker Column to Pricing DataFrame since this does not come with the Pricing API call"
   ]
  },
  {
   "cell_type": "code",
   "execution_count": 271,
   "metadata": {},
   "outputs": [],
   "source": [
    "c = 0\n",
    "#for c in range (len(Ticker_Pricing)):\n",
    "for i in range(len(List_Of_Tickers)):\n",
    "    while (c < (252*(i+1))):\n",
    "        Ticker_Pricing.iloc[c,8] = List_Of_Tickers[i]\n",
    "        c += 1"
   ]
  },
  {
   "cell_type": "markdown",
   "metadata": {},
   "source": [
    "Rearranging columns of Pricing DataFrame so Ticker comes first"
   ]
  },
  {
   "cell_type": "code",
   "execution_count": 276,
   "metadata": {},
   "outputs": [
    {
     "data": {
      "text/plain": [
       "array(['date', 'open', 'high', 'low', 'close', 'adjusted_close', 'volume',\n",
       "       'warning', 'Ticker'], dtype=object)"
      ]
     },
     "execution_count": 276,
     "metadata": {},
     "output_type": "execute_result"
    }
   ],
   "source": [
    "Ticker_Pricing.columns.values\n"
   ]
  },
  {
   "cell_type": "code",
   "execution_count": 277,
   "metadata": {},
   "outputs": [
    {
     "data": {
      "text/html": [
       "<div>\n",
       "<style scoped>\n",
       "    .dataframe tbody tr th:only-of-type {\n",
       "        vertical-align: middle;\n",
       "    }\n",
       "\n",
       "    .dataframe tbody tr th {\n",
       "        vertical-align: top;\n",
       "    }\n",
       "\n",
       "    .dataframe thead th {\n",
       "        text-align: right;\n",
       "    }\n",
       "</style>\n",
       "<table border=\"1\" class=\"dataframe\">\n",
       "  <thead>\n",
       "    <tr style=\"text-align: right;\">\n",
       "      <th></th>\n",
       "      <th>Ticker</th>\n",
       "      <th>date</th>\n",
       "      <th>open</th>\n",
       "      <th>close</th>\n",
       "      <th>high</th>\n",
       "      <th>low</th>\n",
       "      <th>adjusted_close</th>\n",
       "      <th>volume</th>\n",
       "    </tr>\n",
       "  </thead>\n",
       "  <tbody>\n",
       "    <tr>\n",
       "      <th>0</th>\n",
       "      <td>AAPL</td>\n",
       "      <td>2021-08-17</td>\n",
       "      <td>150.23</td>\n",
       "      <td>150.19</td>\n",
       "      <td>151.68</td>\n",
       "      <td>149.09</td>\n",
       "      <td>149.3531</td>\n",
       "      <td>92229700</td>\n",
       "    </tr>\n",
       "    <tr>\n",
       "      <th>1</th>\n",
       "      <td>AAPL</td>\n",
       "      <td>2021-08-18</td>\n",
       "      <td>149.80</td>\n",
       "      <td>146.36</td>\n",
       "      <td>150.72</td>\n",
       "      <td>146.15</td>\n",
       "      <td>145.5444</td>\n",
       "      <td>86326000</td>\n",
       "    </tr>\n",
       "    <tr>\n",
       "      <th>2</th>\n",
       "      <td>AAPL</td>\n",
       "      <td>2021-08-19</td>\n",
       "      <td>145.03</td>\n",
       "      <td>146.70</td>\n",
       "      <td>148.00</td>\n",
       "      <td>144.50</td>\n",
       "      <td>145.8825</td>\n",
       "      <td>86960300</td>\n",
       "    </tr>\n",
       "    <tr>\n",
       "      <th>3</th>\n",
       "      <td>AAPL</td>\n",
       "      <td>2021-08-20</td>\n",
       "      <td>147.44</td>\n",
       "      <td>148.19</td>\n",
       "      <td>148.50</td>\n",
       "      <td>146.78</td>\n",
       "      <td>147.3642</td>\n",
       "      <td>60549600</td>\n",
       "    </tr>\n",
       "    <tr>\n",
       "      <th>4</th>\n",
       "      <td>AAPL</td>\n",
       "      <td>2021-08-23</td>\n",
       "      <td>148.31</td>\n",
       "      <td>149.71</td>\n",
       "      <td>150.19</td>\n",
       "      <td>147.89</td>\n",
       "      <td>148.8758</td>\n",
       "      <td>60131800</td>\n",
       "    </tr>\n",
       "    <tr>\n",
       "      <th>...</th>\n",
       "      <td>...</td>\n",
       "      <td>...</td>\n",
       "      <td>...</td>\n",
       "      <td>...</td>\n",
       "      <td>...</td>\n",
       "      <td>...</td>\n",
       "      <td>...</td>\n",
       "      <td>...</td>\n",
       "    </tr>\n",
       "    <tr>\n",
       "      <th>247</th>\n",
       "      <td>V</td>\n",
       "      <td>2022-08-10</td>\n",
       "      <td>214.83</td>\n",
       "      <td>212.10</td>\n",
       "      <td>214.84</td>\n",
       "      <td>211.31</td>\n",
       "      <td>211.7250</td>\n",
       "      <td>5746447</td>\n",
       "    </tr>\n",
       "    <tr>\n",
       "      <th>248</th>\n",
       "      <td>V</td>\n",
       "      <td>2022-08-11</td>\n",
       "      <td>213.29</td>\n",
       "      <td>211.08</td>\n",
       "      <td>213.50</td>\n",
       "      <td>210.59</td>\n",
       "      <td>211.0800</td>\n",
       "      <td>6639600</td>\n",
       "    </tr>\n",
       "    <tr>\n",
       "      <th>249</th>\n",
       "      <td>V</td>\n",
       "      <td>2022-08-12</td>\n",
       "      <td>213.00</td>\n",
       "      <td>211.33</td>\n",
       "      <td>213.22</td>\n",
       "      <td>210.10</td>\n",
       "      <td>211.3300</td>\n",
       "      <td>6442100</td>\n",
       "    </tr>\n",
       "    <tr>\n",
       "      <th>250</th>\n",
       "      <td>V</td>\n",
       "      <td>2022-08-15</td>\n",
       "      <td>210.37</td>\n",
       "      <td>216.42</td>\n",
       "      <td>216.74</td>\n",
       "      <td>210.37</td>\n",
       "      <td>216.4200</td>\n",
       "      <td>5290600</td>\n",
       "    </tr>\n",
       "    <tr>\n",
       "      <th>251</th>\n",
       "      <td>V</td>\n",
       "      <td>2022-08-16</td>\n",
       "      <td>214.55</td>\n",
       "      <td>217.14</td>\n",
       "      <td>217.61</td>\n",
       "      <td>212.13</td>\n",
       "      <td>217.1400</td>\n",
       "      <td>6564400</td>\n",
       "    </tr>\n",
       "  </tbody>\n",
       "</table>\n",
       "<p>2520 rows × 8 columns</p>\n",
       "</div>"
      ],
      "text/plain": [
       "    Ticker        date    open   close    high     low  adjusted_close  \\\n",
       "0     AAPL  2021-08-17  150.23  150.19  151.68  149.09        149.3531   \n",
       "1     AAPL  2021-08-18  149.80  146.36  150.72  146.15        145.5444   \n",
       "2     AAPL  2021-08-19  145.03  146.70  148.00  144.50        145.8825   \n",
       "3     AAPL  2021-08-20  147.44  148.19  148.50  146.78        147.3642   \n",
       "4     AAPL  2021-08-23  148.31  149.71  150.19  147.89        148.8758   \n",
       "..     ...         ...     ...     ...     ...     ...             ...   \n",
       "247      V  2022-08-10  214.83  212.10  214.84  211.31        211.7250   \n",
       "248      V  2022-08-11  213.29  211.08  213.50  210.59        211.0800   \n",
       "249      V  2022-08-12  213.00  211.33  213.22  210.10        211.3300   \n",
       "250      V  2022-08-15  210.37  216.42  216.74  210.37        216.4200   \n",
       "251      V  2022-08-16  214.55  217.14  217.61  212.13        217.1400   \n",
       "\n",
       "       volume  \n",
       "0    92229700  \n",
       "1    86326000  \n",
       "2    86960300  \n",
       "3    60549600  \n",
       "4    60131800  \n",
       "..        ...  \n",
       "247   5746447  \n",
       "248   6639600  \n",
       "249   6442100  \n",
       "250   5290600  \n",
       "251   6564400  \n",
       "\n",
       "[2520 rows x 8 columns]"
      ]
     },
     "execution_count": 277,
     "metadata": {},
     "output_type": "execute_result"
    }
   ],
   "source": [
    "Ticker_Pricing = Ticker_Pricing[['Ticker', 'date', 'open', 'close' , 'high' , 'low', 'adjusted_close', 'volume']]\n",
    "Ticker_Pricing"
   ]
  },
  {
   "cell_type": "markdown",
   "metadata": {},
   "source": [
    "Exporting Ticker Pricing DataFrame to Excel File"
   ]
  },
  {
   "cell_type": "code",
   "execution_count": 278,
   "metadata": {},
   "outputs": [
    {
     "name": "stdout",
     "output_type": "stream",
     "text": [
      "Ticker Pricing List exported to an Excel File\n"
     ]
    }
   ],
   "source": [
    "ticker_pricing_list_writer = pd.ExcelWriter('Ticker_Pricing.xlsx')\n",
    "Ticker_Pricing.to_excel(ticker_pricing_list_writer)\n",
    "ticker_pricing_list_writer.save()\n",
    "print(\"Ticker Pricing List exported to an Excel File\")"
   ]
  }
 ],
 "metadata": {
  "kernelspec": {
   "display_name": "Python 3.10.6 64-bit",
   "language": "python",
   "name": "python3"
  },
  "language_info": {
   "codemirror_mode": {
    "name": "ipython",
    "version": 3
   },
   "file_extension": ".py",
   "mimetype": "text/x-python",
   "name": "python",
   "nbconvert_exporter": "python",
   "pygments_lexer": "ipython3",
   "version": "3.10.6"
  },
  "orig_nbformat": 4,
  "vscode": {
   "interpreter": {
    "hash": "aee8b7b246df8f9039afb4144a1f6fd8d2ca17a180786b69acc140d282b71a49"
   }
  }
 },
 "nbformat": 4,
 "nbformat_minor": 2
}
